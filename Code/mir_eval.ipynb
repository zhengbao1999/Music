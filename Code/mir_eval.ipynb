{
 "cells": [
  {
   "cell_type": "code",
   "execution_count": null,
   "metadata": {},
   "outputs": [],
   "source": [
    "import mir_eval\n",
    "import pretty_midi\n",
    "import os\n",
    "import json"
   ]
  },
  {
   "cell_type": "code",
   "execution_count": null,
   "metadata": {},
   "outputs": [],
   "source": [
    "reference_path = r'D:\\UNC\\2021 Spring\\Musical Similarity\\Lakh\\genre_500_pop20_number'\n",
    "generation_path = r'D:\\UNC\\2021 Spring\\Musical Similarity\\Lakh\\genre_500_pop20_cut'"
   ]
  },
  {
   "cell_type": "markdown",
   "metadata": {},
   "source": [
    "# Beat Evaluation"
   ]
  },
  {
   "cell_type": "code",
   "execution_count": null,
   "metadata": {
    "scrolled": false
   },
   "outputs": [],
   "source": [
    "beat_scores = {}\n",
    "for i in range(1,501):\n",
    "    file_name = str(i) + '.mid'\n",
    "    ref_midi = pretty_midi.PrettyMIDI(os.path.join(reference_path, file_name))\n",
    "    ref_beats = ref_midi.get_beats()\n",
    "    gen_midi = pretty_midi.PrettyMIDI(os.path.join(generation_path, file_name))\n",
    "    gen_beats = gen_midi.get_beats()\n",
    "    score = mir_eval.beat.evaluate(ref_beats, gen_beats)\n",
    "    beat_scores[str(i)] = score\n",
    "\n",
    "with open('beat_eval.json', 'w') as fp:\n",
    "    json.dump(beat_scores, fp)"
   ]
  },
  {
   "cell_type": "markdown",
   "metadata": {},
   "source": [
    "# On-set Evaluation "
   ]
  },
  {
   "cell_type": "code",
   "execution_count": null,
   "metadata": {},
   "outputs": [],
   "source": [
    "onset_scores = {}\n",
    "for i in range(1,501):\n",
    "    file_name = str(i) + '.mid'\n",
    "    ref_midi = pretty_midi.PrettyMIDI(os.path.join(reference_path, filename))\n",
    "    ref_onset = ref_midi.get_onsets()\n",
    "    gen_midi = pretty_midi.PrettyMIDI(os.path.join(generation_path, filename))\n",
    "    gen_onset = gen_midi.get_onsets()\n",
    "    score = mir_eval.onset.evaluate(ref_onset, gen_onset)\n",
    "    onset_scores[str(i)] = score\n",
    "\n",
    "with open('onset_eval.json', 'w') as fp:\n",
    "    json.dump(onset_scores, fp)"
   ]
  },
  {
   "cell_type": "code",
   "execution_count": null,
   "metadata": {},
   "outputs": [],
   "source": [
    "#ref_midi = pretty_midi.PrettyMIDI(os.path.join(reference_path, '1.mid'))\n",
    "#ref_onset = ref_midi.get_onsets()\n",
    "#gen_midi = pretty_midi.PrettyMIDI(os.path.join(generation_path, '2.mid'))\n",
    "#gen_onset = gen_midi.get_onsets()\n",
    "#print(mir_eval.onset.evaluate(ref_onset, gen_onset))"
   ]
  },
  {
   "cell_type": "code",
   "execution_count": 3,
   "metadata": {},
   "outputs": [
    {
     "name": "stdout",
     "output_type": "stream",
     "text": [
      "Collecting aubio\n",
      "  Using cached aubio-0.4.9.tar.gz (479 kB)\n",
      "Requirement already satisfied: numpy in d:\\conda\\lib\\site-packages (from aubio) (1.18.5)\n",
      "Building wheels for collected packages: aubio\n",
      "  Building wheel for aubio (setup.py): started\n",
      "  Building wheel for aubio (setup.py): finished with status 'error'\n",
      "  Running setup.py clean for aubio\n",
      "Failed to build aubio\n",
      "Installing collected packages: aubio\n",
      "    Running setup.py install for aubio: started\n",
      "    Running setup.py install for aubio: finished with status 'error'\n"
     ]
    },
    {
     "name": "stderr",
     "output_type": "stream",
     "text": [
      "  ERROR: Command errored out with exit status 1:\n",
      "   command: 'D:\\Conda\\python.exe' -u -c 'import sys, setuptools, tokenize; sys.argv[0] = '\"'\"'C:\\\\Users\\\\James\\\\AppData\\\\Local\\\\Temp\\\\pip-install-phgu0q0y\\\\aubio\\\\setup.py'\"'\"'; __file__='\"'\"'C:\\\\Users\\\\James\\\\AppData\\\\Local\\\\Temp\\\\pip-install-phgu0q0y\\\\aubio\\\\setup.py'\"'\"';f=getattr(tokenize, '\"'\"'open'\"'\"', open)(__file__);code=f.read().replace('\"'\"'\\r\\n'\"'\"', '\"'\"'\\n'\"'\"');f.close();exec(compile(code, __file__, '\"'\"'exec'\"'\"'))' bdist_wheel -d 'C:\\Users\\James\\AppData\\Local\\Temp\\pip-wheel-gb3n4uj2'\n",
      "       cwd: C:\\Users\\James\\AppData\\Local\\Temp\\pip-install-phgu0q0y\\aubio\\\n",
      "  Complete output (32 lines):\n",
      "  running bdist_wheel\n",
      "  running build\n",
      "  running build_py\n",
      "  creating build\n",
      "  creating build\\lib.win-amd64-3.8\n",
      "  creating build\\lib.win-amd64-3.8\\aubio\n",
      "  copying python\\lib\\aubio\\cmd.py -> build\\lib.win-amd64-3.8\\aubio\n",
      "  copying python\\lib\\aubio\\cut.py -> build\\lib.win-amd64-3.8\\aubio\n",
      "  copying python\\lib\\aubio\\midiconv.py -> build\\lib.win-amd64-3.8\\aubio\n",
      "  copying python\\lib\\aubio\\slicing.py -> build\\lib.win-amd64-3.8\\aubio\n",
      "  copying python\\lib\\aubio\\__init__.py -> build\\lib.win-amd64-3.8\\aubio\n",
      "  running build_ext\n",
      "  error: Microsoft Visual C++ 14.0 is required. Get it with \"Build Tools for Visual Studio\": https://visualstudio.microsoft.com/downloads/\n",
      "  checking for aubio = 0.4.9\n",
      "  Running \"pkg-config --libs --cflags aubio = 0.4.9\" failed: FileNotFoundError(2, 'The system cannot find the file specified', None, 2, None)\n",
      "  Info: aubio 0.4.9 was not found by pkg-config\n",
      "  Info: looking for *optional* additional packages\n",
      "  checking for libavcodec\n",
      "  Running \"pkg-config --libs --cflags libavcodec\" failed: FileNotFoundError(2, 'The system cannot find the file specified', None, 2, None)\n",
      "  checking for libavformat\n",
      "  Running \"pkg-config --libs --cflags libavformat\" failed: FileNotFoundError(2, 'The system cannot find the file specified', None, 2, None)\n",
      "  checking for libavutil\n",
      "  Running \"pkg-config --libs --cflags libavutil\" failed: FileNotFoundError(2, 'The system cannot find the file specified', None, 2, None)\n",
      "  checking for libswresample\n",
      "  Running \"pkg-config --libs --cflags libswresample\" failed: FileNotFoundError(2, 'The system cannot find the file specified', None, 2, None)\n",
      "  checking for libavresample\n",
      "  Running \"pkg-config --libs --cflags libavresample\" failed: FileNotFoundError(2, 'The system cannot find the file specified', None, 2, None)\n",
      "  checking for sndfile\n",
      "  Running \"pkg-config --libs --cflags sndfile\" failed: FileNotFoundError(2, 'The system cannot find the file specified', None, 2, None)\n",
      "  checking for samplerate\n",
      "  Running \"pkg-config --libs --cflags samplerate\" failed: FileNotFoundError(2, 'The system cannot find the file specified', None, 2, None)\n",
      "  Info: libaubio was not installed or built locally with waf, adding src/\n",
      "  ----------------------------------------\n",
      "  ERROR: Failed building wheel for aubio\n",
      "    ERROR: Command errored out with exit status 1:\n",
      "     command: 'D:\\Conda\\python.exe' -u -c 'import sys, setuptools, tokenize; sys.argv[0] = '\"'\"'C:\\\\Users\\\\James\\\\AppData\\\\Local\\\\Temp\\\\pip-install-phgu0q0y\\\\aubio\\\\setup.py'\"'\"'; __file__='\"'\"'C:\\\\Users\\\\James\\\\AppData\\\\Local\\\\Temp\\\\pip-install-phgu0q0y\\\\aubio\\\\setup.py'\"'\"';f=getattr(tokenize, '\"'\"'open'\"'\"', open)(__file__);code=f.read().replace('\"'\"'\\r\\n'\"'\"', '\"'\"'\\n'\"'\"');f.close();exec(compile(code, __file__, '\"'\"'exec'\"'\"'))' install --record 'C:\\Users\\James\\AppData\\Local\\Temp\\pip-record-2g4rlb6h\\install-record.txt' --single-version-externally-managed --compile --install-headers 'D:\\Conda\\Include\\aubio'\n",
      "         cwd: C:\\Users\\James\\AppData\\Local\\Temp\\pip-install-phgu0q0y\\aubio\\\n",
      "    Complete output (24 lines):\n",
      "    running install\n",
      "    running build\n",
      "    running build_py\n",
      "    running build_ext\n",
      "    error: Microsoft Visual C++ 14.0 is required. Get it with \"Build Tools for Visual Studio\": https://visualstudio.microsoft.com/downloads/\n",
      "    checking for aubio = 0.4.9\n",
      "    Running \"pkg-config --libs --cflags aubio = 0.4.9\" failed: FileNotFoundError(2, 'The system cannot find the file specified', None, 2, None)\n",
      "    Info: aubio 0.4.9 was not found by pkg-config\n",
      "    Info: looking for *optional* additional packages\n",
      "    checking for libavcodec\n",
      "    Running \"pkg-config --libs --cflags libavcodec\" failed: FileNotFoundError(2, 'The system cannot find the file specified', None, 2, None)\n",
      "    checking for libavformat\n",
      "    Running \"pkg-config --libs --cflags libavformat\" failed: FileNotFoundError(2, 'The system cannot find the file specified', None, 2, None)\n",
      "    checking for libavutil\n",
      "    Running \"pkg-config --libs --cflags libavutil\" failed: FileNotFoundError(2, 'The system cannot find the file specified', None, 2, None)\n",
      "    checking for libswresample\n",
      "    Running \"pkg-config --libs --cflags libswresample\" failed: FileNotFoundError(2, 'The system cannot find the file specified', None, 2, None)\n",
      "    checking for libavresample\n",
      "    Running \"pkg-config --libs --cflags libavresample\" failed: FileNotFoundError(2, 'The system cannot find the file specified', None, 2, None)\n",
      "    checking for sndfile\n",
      "    Running \"pkg-config --libs --cflags sndfile\" failed: FileNotFoundError(2, 'The system cannot find the file specified', None, 2, None)\n",
      "    checking for samplerate\n",
      "    Running \"pkg-config --libs --cflags samplerate\" failed: FileNotFoundError(2, 'The system cannot find the file specified', None, 2, None)\n",
      "    Info: libaubio was not installed or built locally with waf, adding src/\n",
      "    ----------------------------------------\n",
      "ERROR: Command errored out with exit status 1: 'D:\\Conda\\python.exe' -u -c 'import sys, setuptools, tokenize; sys.argv[0] = '\"'\"'C:\\\\Users\\\\James\\\\AppData\\\\Local\\\\Temp\\\\pip-install-phgu0q0y\\\\aubio\\\\setup.py'\"'\"'; __file__='\"'\"'C:\\\\Users\\\\James\\\\AppData\\\\Local\\\\Temp\\\\pip-install-phgu0q0y\\\\aubio\\\\setup.py'\"'\"';f=getattr(tokenize, '\"'\"'open'\"'\"', open)(__file__);code=f.read().replace('\"'\"'\\r\\n'\"'\"', '\"'\"'\\n'\"'\"');f.close();exec(compile(code, __file__, '\"'\"'exec'\"'\"'))' install --record 'C:\\Users\\James\\AppData\\Local\\Temp\\pip-record-2g4rlb6h\\install-record.txt' --single-version-externally-managed --compile --install-headers 'D:\\Conda\\Include\\aubio' Check the logs for full command output.\n"
     ]
    }
   ],
   "source": [
    "import sys\n",
    "!{sys.executable} -m pip install aubio"
   ]
  },
  {
   "cell_type": "code",
   "execution_count": 1,
   "metadata": {},
   "outputs": [
    {
     "ename": "ModuleNotFoundError",
     "evalue": "No module named 'aubio'",
     "output_type": "error",
     "traceback": [
      "\u001b[1;31m---------------------------------------------------------------------------\u001b[0m",
      "\u001b[1;31mModuleNotFoundError\u001b[0m                       Traceback (most recent call last)",
      "\u001b[1;32m<ipython-input-1-a84aa3a3bbb0>\u001b[0m in \u001b[0;36m<module>\u001b[1;34m\u001b[0m\n\u001b[0;32m      1\u001b[0m \u001b[1;32mimport\u001b[0m \u001b[0msys\u001b[0m\u001b[1;33m\u001b[0m\u001b[1;33m\u001b[0m\u001b[0m\n\u001b[1;32m----> 2\u001b[1;33m \u001b[1;32mfrom\u001b[0m \u001b[0maubio\u001b[0m \u001b[1;32mimport\u001b[0m \u001b[0msource\u001b[0m\u001b[1;33m,\u001b[0m \u001b[0mpitch\u001b[0m\u001b[1;33m\u001b[0m\u001b[1;33m\u001b[0m\u001b[0m\n\u001b[0m\u001b[0;32m      3\u001b[0m \u001b[1;33m\u001b[0m\u001b[0m\n\u001b[0;32m      4\u001b[0m \u001b[0mwin_s\u001b[0m \u001b[1;33m=\u001b[0m \u001b[1;36m4096\u001b[0m\u001b[1;33m\u001b[0m\u001b[1;33m\u001b[0m\u001b[0m\n\u001b[0;32m      5\u001b[0m \u001b[0mhop_s\u001b[0m \u001b[1;33m=\u001b[0m \u001b[1;36m512\u001b[0m\u001b[1;33m\u001b[0m\u001b[1;33m\u001b[0m\u001b[0m\n",
      "\u001b[1;31mModuleNotFoundError\u001b[0m: No module named 'aubio'"
     ]
    }
   ],
   "source": [
    "import sys\n",
    "from aubio import source, pitch\n",
    "\n",
    "win_s = 4096\n",
    "hop_s = 512 \n",
    "\n",
    "s = source(r'D:\\UNC\\2021 Spring\\Musical Similarity\\Lakh\\wav_reference\\1.wav', 100, hop_s)\n",
    "samplerate = s.samplerate\n",
    "\n",
    "tolerance = 0.8\n",
    "\n",
    "pitch_o = pitch(\"yin\", win_s, hop_s, samplerate)\n",
    "pitch_o.set_unit(\"midi\")\n",
    "pitch_o.set_tolerance(tolerance)\n",
    "\n",
    "pitches = []\n",
    "confidences = []\n",
    "\n",
    "total_frames = 0\n",
    "while True:\n",
    "    samples, read = s()\n",
    "    pitch = pitch_o(samples)[0]\n",
    "    pitches += [pitch]\n",
    "    confidence = pitch_o.get_confidence()\n",
    "    confidences += [confidence]\n",
    "    total_frames += read\n",
    "    if read < hop_s: break\n",
    "        \n",
    "print(pitches)\n"
   ]
  },
  {
   "cell_type": "code",
   "execution_count": null,
   "metadata": {},
   "outputs": [],
   "source": []
  }
 ],
 "metadata": {
  "kernelspec": {
   "display_name": "Python 3",
   "language": "python",
   "name": "python3"
  },
  "language_info": {
   "codemirror_mode": {
    "name": "ipython",
    "version": 3
   },
   "file_extension": ".py",
   "mimetype": "text/x-python",
   "name": "python",
   "nbconvert_exporter": "python",
   "pygments_lexer": "ipython3",
   "version": "3.8.3"
  }
 },
 "nbformat": 4,
 "nbformat_minor": 4
}
